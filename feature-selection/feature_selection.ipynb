{
 "cells": [
  {
   "cell_type": "markdown",
   "source": [
    "# Create pipeline"
   ],
   "metadata": {
    "collapsed": false
   },
   "id": "73660645f714cfd3"
  },
  {
   "cell_type": "code",
   "outputs": [],
   "source": [
    "import pandas as pd\n",
    "import numpy as np\n",
    "from sklearn.preprocessing import OrdinalEncoder\n",
    "\n",
    "X = pd.read_csv('../data/orig_train.csv')"
   ],
   "metadata": {
    "collapsed": false,
    "ExecuteTime": {
     "end_time": "2024-03-19T23:13:40.414242Z",
     "start_time": "2024-03-19T23:13:40.352455Z"
    }
   },
   "id": "e24171ca9eff0e1b",
   "execution_count": 30
  },
  {
   "cell_type": "code",
   "outputs": [],
   "source": [
    "from sklearn.base import BaseEstimator, TransformerMixin\n",
    "\n",
    "def get_col_distribution(X, col_name):\n",
    "    value_counts = X[col_name].value_counts()\n",
    "    number_of_missing_values = value_counts[\"Missing\"]\n",
    "    value_counts_dict = value_counts[1:].to_dict()\n",
    "    \n",
    "    # change to probabilities\n",
    "    for key in value_counts_dict:\n",
    "        value_counts_dict[key] = value_counts_dict[key] / (len(X) - number_of_missing_values)\n",
    "    \n",
    "    return value_counts_dict\n",
    "\n",
    "\n",
    "# Simple column remover to remove low variance columns that are chosen a priori\n",
    "class FeatureRemover(BaseEstimator, TransformerMixin):\n",
    "    def __init__(self, columns_to_drop):\n",
    "        self.columns_to_drop = columns_to_drop\n",
    "        \n",
    "    def fit(self, X, y=None):\n",
    "        return self\n",
    "    \n",
    "    def transform(self, X):\n",
    "        return X.drop(self.columns_to_drop,axis=1)\n",
    "\n",
    "\n",
    "class FeatureNameUpdater(BaseEstimator, TransformerMixin):\n",
    "    def __init__(self, old_name, new_name):\n",
    "        self.old_name = old_name\n",
    "        self.new_name = new_name\n",
    "    \n",
    "    def fit(self, X, y=None):\n",
    "        return self\n",
    "    \n",
    "    def transform(self, X):\n",
    "        X.rename(columns = {self.old_name: self.new_name}, inplace = True)\n",
    "        \n",
    "        return X\n",
    "    \n",
    "# Imputes missing values with mode and according to distribution of columns\n",
    "class MyImputer(BaseEstimator, TransformerMixin):\n",
    "    def __init__(self, cols_mode_imputation, cols_dist_imputation):\n",
    "        self.modes = {}\n",
    "        self.distributions_of_columns = {}\n",
    "        self.cols_mode_imputation = cols_mode_imputation\n",
    "        self.cols_dist_imputation = cols_dist_imputation\n",
    "    \n",
    "    def fit(self, X, y=None):\n",
    "        for col_name in self.cols_mode_imputation:\n",
    "            self.modes[col_name] = X[col_name].mode()[0]\n",
    "        \n",
    "        for col_name in self.cols_dist_imputation:\n",
    "            self.distributions_of_columns[col_name] = get_col_distribution(X, col_name)\n",
    "        \n",
    "        return self\n",
    "    \n",
    "    def transform(self, X):\n",
    "        X_copy = X.copy()\n",
    "        \n",
    "        for col_name in self.cols_mode_imputation:\n",
    "            X_copy[col_name] = X[col_name].replace('Missing', self.modes[col_name])\n",
    "        \n",
    "        for col_name in self.cols_dist_imputation:\n",
    "            column_distribution = self.distributions_of_columns[col_name]\n",
    "            \n",
    "            X_copy[col_name] = X[col_name].replace('Missing',\n",
    "                                              np.random.choice(list(column_distribution.keys()), \n",
    "                                                        p = list(column_distribution.values())))\n",
    "        \n",
    "        return X_copy\n",
    "    \n",
    "\n",
    "class MyEncoder(BaseEstimator, TransformerMixin):\n",
    "    def __init__(self, cat_features_wo_order, cat_feature_with_order, categories_order):\n",
    "        self.cat_features_wo_order = cat_features_wo_order\n",
    "        self.cat_feature_with_order = cat_feature_with_order\n",
    "        self.ordinal_encoder = OrdinalEncoder(categories=[categories_order])\n",
    "        \n",
    "    def fit(self, X, y=None):\n",
    "        self.ordinal_encoder.fit(X[[self.cat_feature_with_order]])\n",
    "        \n",
    "        return self\n",
    "        \n",
    "    def transform(self, X, y=None):\n",
    "        X_copy = X.copy()\n",
    "        X_copy = pd.get_dummies(X, columns=self.cat_features_wo_order)\n",
    "        \n",
    "        X_copy[self.cat_feature_with_order] = self.ordinal_encoder.transform(X[[self.cat_feature_with_order]])\n",
    "        \n",
    "        return X_copy\n",
    "        "
   ],
   "metadata": {
    "collapsed": false,
    "ExecuteTime": {
     "end_time": "2024-03-19T23:22:28.906432Z",
     "start_time": "2024-03-19T23:22:28.888842Z"
    }
   },
   "id": "2b2abdf8fb6a1a0f",
   "execution_count": 40
  },
  {
   "cell_type": "code",
   "outputs": [
    {
     "data": {
      "text/plain": "       AGE  HOUSEHOLD_MEMBERS  NO_OF_DEPENDENTS  INCOME  WORK_SENIORITY  \\\n0       65                  2                 0  1245.0               5   \n1       64                  2                 0  1380.0               5   \n2       30                  2                 0  1131.0               2   \n3       39                  1                 0  1730.0               9   \n4       38                  1                 0  1189.0               5   \n...    ...                ...               ...     ...             ...   \n15092   31                  2                 0  1886.0               8   \n15093   54                  1                 0   670.0              36   \n15094   45                  1                 0  4794.0              11   \n15095   57                  2                 0  3733.6              11   \n15096   38                  2                 0  1408.0               7   \n\n       BUSINESS_AGE  EMPLOYEE_NO  LENGTH_RELATIONSHIP_WITH_CLIENT  DEBIT_CARD  \\\n0                16          2.0                                1           0   \n1                16          2.0                                8           0   \n2                 6          7.0                                1           1   \n3                13          1.0                                2           0   \n4                16          2.0                                1           1   \n...             ...          ...                              ...         ...   \n15092            17          7.0                                1           1   \n15093            45          4.0                                9           0   \n15094            21          7.0                               11           0   \n15095            21          5.0                                1           1   \n15096            21          5.0                                9           1   \n\n       CURRENT_ACCOUNT  ...  ECONOMIC_SECTOR_Information and communication  \\\n0                    0  ...                                          False   \n1                    0  ...                                          False   \n2                    1  ...                                          False   \n3                    0  ...                                          False   \n4                    1  ...                                          False   \n...                ...  ...                                            ...   \n15092                1  ...                                          False   \n15093                0  ...                                          False   \n15094                0  ...                                          False   \n15095                1  ...                                          False   \n15096                1  ...                                          False   \n\n       ECONOMIC_SECTOR_Manufacturing  ECONOMIC_SECTOR_Mining and quarrying  \\\n0                              False                                 False   \n1                              False                                 False   \n2                              False                                 False   \n3                              False                                 False   \n4                              False                                 False   \n...                              ...                                   ...   \n15092                          False                                 False   \n15093                          False                                 False   \n15094                          False                                 False   \n15095                          False                                 False   \n15096                           True                                 False   \n\n       ECONOMIC_SECTOR_Other  \\\n0                      False   \n1                      False   \n2                       True   \n3                      False   \n4                      False   \n...                      ...   \n15092                  False   \n15093                  False   \n15094                  False   \n15095                  False   \n15096                  False   \n\n       ECONOMIC_SECTOR_Professional, scientific and technical activities  \\\n0                                                  False                   \n1                                                  False                   \n2                                                  False                   \n3                                                  False                   \n4                                                  False                   \n...                                                  ...                   \n15092                                              False                   \n15093                                              False                   \n15094                                              False                   \n15095                                              False                   \n15096                                              False                   \n\n       ECONOMIC_SECTOR_Public administration and defence  \\\n0                                                  False   \n1                                                  False   \n2                                                  False   \n3                                                  False   \n4                                                  False   \n...                                                  ...   \n15092                                              False   \n15093                                              False   \n15094                                               True   \n15095                                              False   \n15096                                              False   \n\n       ECONOMIC_SECTOR_Real estate activities  \\\n0                                       False   \n1                                       False   \n2                                       False   \n3                                       False   \n4                                       False   \n...                                       ...   \n15092                                   False   \n15093                                   False   \n15094                                   False   \n15095                                   False   \n15096                                   False   \n\n       ECONOMIC_SECTOR_Transportation and storage  \\\n0                                           False   \n1                                           False   \n2                                           False   \n3                                           False   \n4                                           False   \n...                                           ...   \n15092                                        True   \n15093                                       False   \n15094                                       False   \n15095                                       False   \n15096                                       False   \n\n       ECONOMIC_SECTOR_Water supply  \\\n0                             False   \n1                             False   \n2                             False   \n3                             False   \n4                             False   \n...                             ...   \n15092                         False   \n15093                         False   \n15094                         False   \n15095                         False   \n15096                         False   \n\n       ECONOMIC_SECTOR_Wholesale and retail trade  \n0                                            True  \n1                                            True  \n2                                           False  \n3                                           False  \n4                                            True  \n...                                           ...  \n15092                                       False  \n15093                                        True  \n15094                                       False  \n15095                                       False  \n15096                                       False  \n\n[15097 rows x 57 columns]",
      "text/html": "<div>\n<style scoped>\n    .dataframe tbody tr th:only-of-type {\n        vertical-align: middle;\n    }\n\n    .dataframe tbody tr th {\n        vertical-align: top;\n    }\n\n    .dataframe thead th {\n        text-align: right;\n    }\n</style>\n<table border=\"1\" class=\"dataframe\">\n  <thead>\n    <tr style=\"text-align: right;\">\n      <th></th>\n      <th>AGE</th>\n      <th>HOUSEHOLD_MEMBERS</th>\n      <th>NO_OF_DEPENDENTS</th>\n      <th>INCOME</th>\n      <th>WORK_SENIORITY</th>\n      <th>BUSINESS_AGE</th>\n      <th>EMPLOYEE_NO</th>\n      <th>LENGTH_RELATIONSHIP_WITH_CLIENT</th>\n      <th>DEBIT_CARD</th>\n      <th>CURRENT_ACCOUNT</th>\n      <th>...</th>\n      <th>ECONOMIC_SECTOR_Information and communication</th>\n      <th>ECONOMIC_SECTOR_Manufacturing</th>\n      <th>ECONOMIC_SECTOR_Mining and quarrying</th>\n      <th>ECONOMIC_SECTOR_Other</th>\n      <th>ECONOMIC_SECTOR_Professional, scientific and technical activities</th>\n      <th>ECONOMIC_SECTOR_Public administration and defence</th>\n      <th>ECONOMIC_SECTOR_Real estate activities</th>\n      <th>ECONOMIC_SECTOR_Transportation and storage</th>\n      <th>ECONOMIC_SECTOR_Water supply</th>\n      <th>ECONOMIC_SECTOR_Wholesale and retail trade</th>\n    </tr>\n  </thead>\n  <tbody>\n    <tr>\n      <th>0</th>\n      <td>65</td>\n      <td>2</td>\n      <td>0</td>\n      <td>1245.0</td>\n      <td>5</td>\n      <td>16</td>\n      <td>2.0</td>\n      <td>1</td>\n      <td>0</td>\n      <td>0</td>\n      <td>...</td>\n      <td>False</td>\n      <td>False</td>\n      <td>False</td>\n      <td>False</td>\n      <td>False</td>\n      <td>False</td>\n      <td>False</td>\n      <td>False</td>\n      <td>False</td>\n      <td>True</td>\n    </tr>\n    <tr>\n      <th>1</th>\n      <td>64</td>\n      <td>2</td>\n      <td>0</td>\n      <td>1380.0</td>\n      <td>5</td>\n      <td>16</td>\n      <td>2.0</td>\n      <td>8</td>\n      <td>0</td>\n      <td>0</td>\n      <td>...</td>\n      <td>False</td>\n      <td>False</td>\n      <td>False</td>\n      <td>False</td>\n      <td>False</td>\n      <td>False</td>\n      <td>False</td>\n      <td>False</td>\n      <td>False</td>\n      <td>True</td>\n    </tr>\n    <tr>\n      <th>2</th>\n      <td>30</td>\n      <td>2</td>\n      <td>0</td>\n      <td>1131.0</td>\n      <td>2</td>\n      <td>6</td>\n      <td>7.0</td>\n      <td>1</td>\n      <td>1</td>\n      <td>1</td>\n      <td>...</td>\n      <td>False</td>\n      <td>False</td>\n      <td>False</td>\n      <td>True</td>\n      <td>False</td>\n      <td>False</td>\n      <td>False</td>\n      <td>False</td>\n      <td>False</td>\n      <td>False</td>\n    </tr>\n    <tr>\n      <th>3</th>\n      <td>39</td>\n      <td>1</td>\n      <td>0</td>\n      <td>1730.0</td>\n      <td>9</td>\n      <td>13</td>\n      <td>1.0</td>\n      <td>2</td>\n      <td>0</td>\n      <td>0</td>\n      <td>...</td>\n      <td>False</td>\n      <td>False</td>\n      <td>False</td>\n      <td>False</td>\n      <td>False</td>\n      <td>False</td>\n      <td>False</td>\n      <td>False</td>\n      <td>False</td>\n      <td>False</td>\n    </tr>\n    <tr>\n      <th>4</th>\n      <td>38</td>\n      <td>1</td>\n      <td>0</td>\n      <td>1189.0</td>\n      <td>5</td>\n      <td>16</td>\n      <td>2.0</td>\n      <td>1</td>\n      <td>1</td>\n      <td>1</td>\n      <td>...</td>\n      <td>False</td>\n      <td>False</td>\n      <td>False</td>\n      <td>False</td>\n      <td>False</td>\n      <td>False</td>\n      <td>False</td>\n      <td>False</td>\n      <td>False</td>\n      <td>True</td>\n    </tr>\n    <tr>\n      <th>...</th>\n      <td>...</td>\n      <td>...</td>\n      <td>...</td>\n      <td>...</td>\n      <td>...</td>\n      <td>...</td>\n      <td>...</td>\n      <td>...</td>\n      <td>...</td>\n      <td>...</td>\n      <td>...</td>\n      <td>...</td>\n      <td>...</td>\n      <td>...</td>\n      <td>...</td>\n      <td>...</td>\n      <td>...</td>\n      <td>...</td>\n      <td>...</td>\n      <td>...</td>\n      <td>...</td>\n    </tr>\n    <tr>\n      <th>15092</th>\n      <td>31</td>\n      <td>2</td>\n      <td>0</td>\n      <td>1886.0</td>\n      <td>8</td>\n      <td>17</td>\n      <td>7.0</td>\n      <td>1</td>\n      <td>1</td>\n      <td>1</td>\n      <td>...</td>\n      <td>False</td>\n      <td>False</td>\n      <td>False</td>\n      <td>False</td>\n      <td>False</td>\n      <td>False</td>\n      <td>False</td>\n      <td>True</td>\n      <td>False</td>\n      <td>False</td>\n    </tr>\n    <tr>\n      <th>15093</th>\n      <td>54</td>\n      <td>1</td>\n      <td>0</td>\n      <td>670.0</td>\n      <td>36</td>\n      <td>45</td>\n      <td>4.0</td>\n      <td>9</td>\n      <td>0</td>\n      <td>0</td>\n      <td>...</td>\n      <td>False</td>\n      <td>False</td>\n      <td>False</td>\n      <td>False</td>\n      <td>False</td>\n      <td>False</td>\n      <td>False</td>\n      <td>False</td>\n      <td>False</td>\n      <td>True</td>\n    </tr>\n    <tr>\n      <th>15094</th>\n      <td>45</td>\n      <td>1</td>\n      <td>0</td>\n      <td>4794.0</td>\n      <td>11</td>\n      <td>21</td>\n      <td>7.0</td>\n      <td>11</td>\n      <td>0</td>\n      <td>0</td>\n      <td>...</td>\n      <td>False</td>\n      <td>False</td>\n      <td>False</td>\n      <td>False</td>\n      <td>False</td>\n      <td>True</td>\n      <td>False</td>\n      <td>False</td>\n      <td>False</td>\n      <td>False</td>\n    </tr>\n    <tr>\n      <th>15095</th>\n      <td>57</td>\n      <td>2</td>\n      <td>0</td>\n      <td>3733.6</td>\n      <td>11</td>\n      <td>21</td>\n      <td>5.0</td>\n      <td>1</td>\n      <td>1</td>\n      <td>1</td>\n      <td>...</td>\n      <td>False</td>\n      <td>False</td>\n      <td>False</td>\n      <td>False</td>\n      <td>False</td>\n      <td>False</td>\n      <td>False</td>\n      <td>False</td>\n      <td>False</td>\n      <td>False</td>\n    </tr>\n    <tr>\n      <th>15096</th>\n      <td>38</td>\n      <td>2</td>\n      <td>0</td>\n      <td>1408.0</td>\n      <td>7</td>\n      <td>21</td>\n      <td>5.0</td>\n      <td>9</td>\n      <td>1</td>\n      <td>1</td>\n      <td>...</td>\n      <td>False</td>\n      <td>True</td>\n      <td>False</td>\n      <td>False</td>\n      <td>False</td>\n      <td>False</td>\n      <td>False</td>\n      <td>False</td>\n      <td>False</td>\n      <td>False</td>\n    </tr>\n  </tbody>\n</table>\n<p>15097 rows × 57 columns</p>\n</div>"
     },
     "execution_count": 41,
     "metadata": {},
     "output_type": "execute_result"
    }
   ],
   "source": [
    "from sklearn.pipeline import Pipeline\n",
    "\n",
    "pipeline = Pipeline([\n",
    "    ('feature_remover', FeatureRemover(['SAVING_ACCOUNT', 'FOREIGN_ACCOUNT', 'DEPOSIT', 'PENSION_FUNDS'])),\n",
    "    ('name_updater', FeatureNameUpdater('BUSINESS AGE', 'BUSINESS_AGE')),\n",
    "    ('imputer', MyImputer(['AREA', 'EDUCATION'], ['ECONOMIC_SECTOR', 'EMPLOYEE_NO'])),\n",
    "    ('encoder', MyEncoder([\"PRODUCT\", \"AREA\", \"RESIDENTIAL_PLACE\", \"EDUCATION\", \"MARITAL_STATUS\",\n",
    "                           \"ECONOMIC_SECTOR\"], 'EMPLOYEE_NO', [\"between 0-10\", \"between 11-20\",\n",
    "                                                               \"between 21-50\", \"between 51-100\",\n",
    "                                                               \"between 101-250\", \"between 251-500\",\n",
    "                                                               \"between 501-1.000\", \"> 1.000\"]))\n",
    "])\n",
    "\n",
    "pipeline.fit_transform(X)"
   ],
   "metadata": {
    "collapsed": false,
    "ExecuteTime": {
     "end_time": "2024-03-19T23:22:31.087092Z",
     "start_time": "2024-03-19T23:22:31.035551Z"
    }
   },
   "id": "48ae2dc8309fec06",
   "execution_count": 41
  }
 ],
 "metadata": {
  "kernelspec": {
   "display_name": "Python 3",
   "language": "python",
   "name": "python3"
  },
  "language_info": {
   "codemirror_mode": {
    "name": "ipython",
    "version": 2
   },
   "file_extension": ".py",
   "mimetype": "text/x-python",
   "name": "python",
   "nbconvert_exporter": "python",
   "pygments_lexer": "ipython2",
   "version": "2.7.6"
  }
 },
 "nbformat": 4,
 "nbformat_minor": 5
}
