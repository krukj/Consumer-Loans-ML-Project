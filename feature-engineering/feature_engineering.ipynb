{
 "cells": [
  {
   "cell_type": "markdown",
   "id": "73660645f714cfd3",
   "metadata": {},
   "source": [
    "## Pipeline for processing data"
   ]
  },
  {
   "cell_type": "code",
   "execution_count": 1,
   "id": "e24171ca9eff0e1b",
   "metadata": {
    "ExecuteTime": {
     "end_time": "2024-03-20T11:33:56.086197Z",
     "start_time": "2024-03-20T11:33:55.994665Z"
    }
   },
   "outputs": [],
   "source": [
    "import pandas as pd\n",
    "import numpy as np\n",
    "from sklearn.preprocessing import OrdinalEncoder\n",
    "import warnings\n",
    "warnings.filterwarnings('ignore')\n",
    "\n",
    "X_train = pd.read_csv('../data/orig_train.csv')\n",
    "target = X_train['DEFAULT_FLAG']\n",
    "X_train.drop(columns=['DEFAULT_FLAG'], inplace=True)"
   ]
  },
  {
   "cell_type": "code",
   "execution_count": 2,
   "id": "2b2abdf8fb6a1a0f",
   "metadata": {
    "ExecuteTime": {
     "end_time": "2024-03-20T11:45:05.186999Z",
     "start_time": "2024-03-20T11:45:05.174206Z"
    }
   },
   "outputs": [],
   "source": [
    "from sklearn.base import BaseEstimator, TransformerMixin\n",
    "from sklearn.preprocessing import StandardScaler, MinMaxScaler\n",
    "\n",
    "\n",
    "# Simple column remover to remove low variance columns\n",
    "class FeatureRemover(BaseEstimator, TransformerMixin):\n",
    "    def __init__(self, columns_to_drop):\n",
    "        self.columns_to_drop = columns_to_drop\n",
    "        \n",
    "    def fit(self, X, y=None):\n",
    "        return self\n",
    "    \n",
    "    def transform(self, X):\n",
    "        return X.drop(self.columns_to_drop,axis=1)\n",
    "\n",
    "# Update name of the column\n",
    "class FeatureNameUpdater(BaseEstimator, TransformerMixin):\n",
    "    def __init__(self, old_name, new_name):\n",
    "        self.old_name = old_name\n",
    "        self.new_name = new_name\n",
    "    \n",
    "    def fit(self, X, y=None):\n",
    "        return self\n",
    "    \n",
    "    def transform(self, X):\n",
    "        X.rename(columns = {self.old_name: self.new_name}, inplace = True)\n",
    "        \n",
    "        return X\n",
    "    \n",
    "# Imputes missing values with mode and according to distribution of columns\n",
    "class MyImputer(BaseEstimator, TransformerMixin):\n",
    "    def __init__(self, cols_mode_imputation, cols_dist_imputation):\n",
    "        self.modes = {}\n",
    "        self.distributions_of_columns = {}\n",
    "        self.cols_mode_imputation = cols_mode_imputation\n",
    "        self.cols_dist_imputation = cols_dist_imputation\n",
    "    \n",
    "    # Function to create dictionary containing distribution of a categorical column\n",
    "    def get_col_distribution(self, X, col_name):\n",
    "        value_counts = X[col_name].value_counts()\n",
    "        number_of_missing_values = value_counts[\"Missing\"]\n",
    "        value_counts_dict = value_counts[1:].to_dict()\n",
    "        \n",
    "        # change to probabilities\n",
    "        for key in value_counts_dict:\n",
    "            value_counts_dict[key] = value_counts_dict[key] / (len(X) - number_of_missing_values)\n",
    "\n",
    "        # if probabilites do not sum to 1 due to numerical errors\n",
    "        if 0.99 < sum(value_counts_dict.values()) < 1:\n",
    "            max_value = max(value_counts_dict.values())\n",
    "            max_key = [key for key, value in value_counts_dict.items() if value == max_value][0]\n",
    "\n",
    "            value_counts_dict[max_key] += 1 - sum(value_counts_dict.values())\n",
    "\n",
    "        return value_counts_dict\n",
    "\n",
    "    def fit(self, X, y=None):\n",
    "        for col_name in self.cols_mode_imputation:\n",
    "            self.modes[col_name] = X[col_name].mode()[0]\n",
    "        \n",
    "        for col_name in self.cols_dist_imputation:\n",
    "            self.distributions_of_columns[col_name] = self.get_col_distribution(X, col_name)\n",
    "        \n",
    "        return self\n",
    "    \n",
    "    def transform(self, X):\n",
    "        X_copy = X.copy()\n",
    "        \n",
    "        for col_name in self.cols_mode_imputation:\n",
    "            X_copy[col_name] = X[col_name].replace('Missing', self.modes[col_name])\n",
    "        \n",
    "        for col_name in self.cols_dist_imputation:\n",
    "            column_distribution = self.distributions_of_columns[col_name]\n",
    "            \n",
    "            X_copy[col_name] = X[col_name].replace('Missing',\n",
    "                                              np.random.choice(list(column_distribution.keys()), \n",
    "                                                        p = list(column_distribution.values())))\n",
    "        \n",
    "        return X_copy\n",
    "\n",
    "# Encoder for categorical variables handling both ordered and unordered ones\n",
    "class MyEncoder(BaseEstimator, TransformerMixin):\n",
    "    def __init__(self, cat_features_wo_order, cat_feature_with_order, categories_order):\n",
    "        self.cat_features_wo_order = cat_features_wo_order\n",
    "        self.cat_feature_with_order = cat_feature_with_order\n",
    "        self.categories_order = categories_order\n",
    "        self.ordinal_encoder = OrdinalEncoder(categories=[categories_order])\n",
    "\n",
    "    def fit(self, X, y=None):\n",
    "        self.ordinal_encoder.fit(X[[self.cat_feature_with_order]])\n",
    "\n",
    "        return self\n",
    "\n",
    "    def transform(self, X, y=None):\n",
    "        X_copy = pd.get_dummies(X, columns=self.cat_features_wo_order)\n",
    "\n",
    "        X_copy[self.cat_feature_with_order] = self.ordinal_encoder.transform(X[[self.cat_feature_with_order]])\n",
    "\n",
    "        return X_copy\n",
    "\n",
    "# scaling the data, based on choice it will either standarize(default) or normalize,\n",
    "class MyScaler(BaseEstimator, TransformerMixin):\n",
    "    def __init__(self, standarize=True):\n",
    "        self.standarize = standarize\n",
    "        \n",
    "        if self.standarize is True:\n",
    "            self.scaler = StandardScaler()\n",
    "        else:\n",
    "            self.scaler = MinMaxScaler()\n",
    "\n",
    "    def fit(self, X, y=None):\n",
    "        # we want to scale only numerical columns\n",
    "        X_num_cols = X.select_dtypes(include=['float64', 'int64'])\n",
    "        \n",
    "        self.scaler.fit(X_num_cols)\n",
    "        \n",
    "        return self\n",
    "\n",
    "    def transform(self, X, y=None):\n",
    "        X_num_cols = X.select_dtypes(include=['float64', 'int64'])\n",
    "        \n",
    "        # transform numerical columns\n",
    "        X_num_cols_transformed = self.scaler.transform(X_num_cols)\n",
    "        \n",
    "        # change to df to access columns\n",
    "        X_num_cols_transformed_df = pd.DataFrame(X_num_cols_transformed, columns=X_num_cols.columns, index=X_num_cols.index)\n",
    "\n",
    "        # change them in X\n",
    "        X_copy = X.copy()\n",
    "        for col_name in X_num_cols_transformed_df.columns:\n",
    "            X_copy[col_name] = X_num_cols_transformed_df[col_name]\n",
    "\n",
    "        return X_copy\n",
    "    \n",
    "\n",
    "class OutlierReplacer(BaseEstimator, TransformerMixin):\n",
    "    # It will replace outliers from columns based on provided dictionary(for now list of columns)\n",
    "    # If to_remove_dict[col_name] is true outliers will be removed (and exchanged with a proper quantile)\n",
    "    # It is possible to adjust parameter k, by default its set to 1.5 as usually it is done\n",
    "    def __init__(self, columns=None, k=1.5):\n",
    "        self.columns = columns\n",
    "        self.k = k\n",
    "        self.lower_bounds = {}\n",
    "        self.upper_bounds = {}\n",
    "        \n",
    "    def fit(self, X, y=None):\n",
    "        # Compute lower and upper bounds for each specified column\n",
    "        if self.columns is None:\n",
    "            self.columns = X.columns\n",
    "        for col in self.columns:\n",
    "            q1 = X[col].quantile(0.25)\n",
    "            q3 = X[col].quantile(0.75)\n",
    "            iqr = q3 - q1\n",
    "            lower_bound = q1 - self.k * iqr\n",
    "            upper_bound = q3 + self.k * iqr\n",
    "            self.lower_bounds[col] = lower_bound\n",
    "            self.upper_bounds[col] = upper_bound\n",
    "        return self\n",
    "    \n",
    "    def transform(self, X, y=None):\n",
    "        # Replace outliers in specified columns with calculated bounds\n",
    "        X_copy = X.copy()\n",
    "        for col in self.columns:\n",
    "            lower_bound = self.lower_bounds[col]\n",
    "            upper_bound = self.upper_bounds[col]\n",
    "            X_copy[col] = X_copy[col].clip(lower_bound, upper_bound)\n",
    "        return X_copy\n",
    "    "
   ]
  },
  {
   "cell_type": "code",
   "execution_count": 3,
   "id": "48ae2dc8309fec06",
   "metadata": {
    "ExecuteTime": {
     "end_time": "2024-03-20T11:41:33.909172Z",
     "start_time": "2024-03-20T11:41:33.874520Z"
    }
   },
   "outputs": [],
   "source": [
    "from sklearn.pipeline import Pipeline\n",
    "\n",
    "pipeline_processing = Pipeline([\n",
    "    # first we remove low variance columns (chosen during EDA) and FINALIZED_LOAN as variable from future\n",
    "    ('feature_remover', FeatureRemover(['SAVING_ACCOUNT', 'FOREIGN_ACCOUNT', 'DEPOSIT', 'PENSION_FUNDS', 'FINALIZED_LOAN'])), # first 4 columns are removed because of low variance, FINALIZED_LOAN removed as a feature from future\n",
    "   \n",
    "    # then we update the name of column BUSINESS AGE to keep it consisten with the rest of columns\n",
    "    ('name_updater', FeatureNameUpdater('BUSINESS AGE', 'BUSINESS_AGE')),\n",
    "    \n",
    "    # we impute missing values with mode or according to distribution (in case when missing value is mode)\n",
    "    ('imputer', MyImputer(['AREA', 'EDUCATION'], ['ECONOMIC_SECTOR', 'EMPLOYEE_NO'])),\n",
    "    \n",
    "    # encoding columns (those in a list) with one-hot encoding as they have no order\n",
    "    # EMPLOYEE_NO is encoded using OrdinalEncoder with specified order of values\n",
    "    ('encoder', MyEncoder([\"PRODUCT\", \"AREA\", \"RESIDENTIAL_PLACE\", \"EDUCATION\", \"MARITAL_STATUS\",\n",
    "                           \"ECONOMIC_SECTOR\"], 'EMPLOYEE_NO', [\"between 0-10\", \"between 11-20\",\n",
    "                                                               \"between 21-50\", \"between 51-100\",\n",
    "                                                               \"between 101-250\", \"between 251-500\",\n",
    "                                                               \"between 501-1.000\", \"> 1.000\"])),\n",
    "    \n",
    "    # Replace outliers in chosen columns, you can also provide parameter k for the iqr scaling (1.5 default)\n",
    "    ('outlier_replacer', OutlierReplacer(['LENGTH_RELATIONSHIP_WITH_CLIENT', 'WORK_SENIORITY', 'BUSINESS_AGE', 'INCOME'])),\n",
    "    \n",
    "    # scaling numerical data, you can choose whether to standarize(True) or minmax(False) (TODO: fix scaling 0-1 type features)\n",
    "    ('scaler', MyScaler(standarize=False))\n",
    "])\n",
    "\n",
    "X_train_transformed = pipeline_processing.fit_transform(X_train)"
   ]
  },
  {
   "cell_type": "markdown",
   "id": "a888967b",
   "metadata": {},
   "source": [
    "#### Deleting columns with very low variance\n",
    "From our EDA we remember that some categorical columns had values that appeared very rarely, hence some of the columns after encoding might have near zero variance and should be removed."
   ]
  },
  {
   "cell_type": "code",
   "execution_count": 4,
   "id": "0b5cb870",
   "metadata": {},
   "outputs": [
    {
     "name": "stdout",
     "output_type": "stream",
     "text": [
      "Column                                                               True values    Total    Percentage\n",
      "-----------------------------------------------------------------  -------------  -------  ------------\n",
      "PRODUCT_D                                                                     13    15097     0.0861098\n",
      "RESIDENTIAL_PLACE_Rental                                                      28    15097     0.185467\n",
      "EDUCATION_Primary school                                                      28    15097     0.185467\n",
      "PRODUCT_A                                                                     42    15097     0.278201\n",
      "ECONOMIC_SECTOR_Real estate activities                                        79    15097     0.523283\n",
      "ECONOMIC_SECTOR_Electricity and gas                                          152    15097     1.00682\n",
      "ECONOMIC_SECTOR_Accommodation and food service activities                    159    15097     1.05319\n",
      "EDUCATION_Middle school                                                      195    15097     1.29165\n",
      "ECONOMIC_SECTOR_Agriculture, hunting and forestry                            196    15097     1.29827\n",
      "ECONOMIC_SECTOR_Mining and quarrying                                         205    15097     1.35789\n",
      "RESIDENTIAL_PLACE_Other                                                      246    15097     1.62946\n",
      "ECONOMIC_SECTOR_Financial and insurance activities                           274    15097     1.81493\n",
      "ECONOMIC_SECTOR_Water supply                                                 333    15097     2.20574\n",
      "ECONOMIC_SECTOR_Construction                                                 358    15097     2.37133\n",
      "ECONOMIC_SECTOR_Professional, scientific and technical activities            393    15097     2.60317\n",
      "ECONOMIC_SECTOR_Education                                                    460    15097     3.04696\n",
      "ECONOMIC_SECTOR_Information and communication                                517    15097     3.42452\n",
      "EDUCATION_College                                                            562    15097     3.72259\n",
      "ECONOMIC_SECTOR_Human health and social work activities                      668    15097     4.42472\n",
      "ECONOMIC_SECTOR_Transportation and storage                                   691    15097     4.57707\n",
      "MARITAL_STATUS_widow                                                         798    15097     5.28582\n",
      "EDUCATION_Other                                                              819    15097     5.42492\n",
      "ECONOMIC_SECTOR_Other                                                        840    15097     5.56402\n",
      "RESIDENTIAL_PLACE_Owner with mortgage                                        861    15097     5.70312\n",
      "MARITAL_STATUS_divorced                                                     1045    15097     6.92191\n",
      "EDUCATION_Post-graduate                                                     1046    15097     6.92853\n",
      "EDUCATION_Vocational school                                                 1228    15097     8.13407\n",
      "ECONOMIC_SECTOR_Public administration and defence                           1257    15097     8.32616\n",
      "PRODUCT_E                                                                   1522    15097    10.0815\n",
      "EDUCATION_Post secondary school                                             1620    15097    10.7306\n",
      "ECONOMIC_SECTOR_Manufacturing                                               3093    15097    20.4875\n",
      "AREA_Urban area                                                             3286    15097    21.7659\n",
      "PRODUCT_F                                                                   3334    15097    22.0839\n",
      "PRODUCT_B                                                                   3407    15097    22.5674\n",
      "EDUCATION_Highschool                                                        3451    15097    22.8588\n",
      "AREA_Rural area                                                             4192    15097    27.7671\n",
      "MARITAL_STATUS_single                                                       5113    15097    33.8677\n",
      "ECONOMIC_SECTOR_Wholesale and retail trade                                  5422    15097    35.9144\n",
      "RESIDENTIAL_PLACE_Living with family                                        5505    15097    36.4642\n",
      "EDUCATION_University                                                        6148    15097    40.7233\n",
      "PRODUCT_C                                                                   6779    15097    44.903\n",
      "AREA_County capital                                                         7619    15097    50.467\n",
      "MARITAL_STATUS_married                                                      8141    15097    53.9246\n",
      "RESIDENTIAL_PLACE_Owner without mortgage                                    8457    15097    56.0178\n"
     ]
    }
   ],
   "source": [
    "from tabulate import tabulate\n",
    "\n",
    "encoded_columns = X_train_transformed.select_dtypes(include=['bool'])\n",
    "\n",
    "# dictionary for saving number of true values in particular columns\n",
    "dict_true_values = {}\n",
    "\n",
    "for col_name in encoded_columns.columns:\n",
    "    # calculate number of true values and add to dict\n",
    "    number_of_true_values = encoded_columns[col_name].sum()\n",
    "    dict_true_values[col_name] = number_of_true_values\n",
    "\n",
    "# sort keys by values\n",
    "keys_sorted = sorted(dict_true_values, key=dict_true_values.get)\n",
    "\n",
    "data = [(key, dict_true_values[key], len(X_train_transformed), (dict_true_values[key] * 100) / len(X_train_transformed)) for key in keys_sorted]\n",
    "\n",
    "print(tabulate(data, headers=['Column', 'True values', 'Total', 'Percentage'], tablefmt='simple'))"
   ]
  },
  {
   "cell_type": "markdown",
   "id": "dee5d1cd",
   "metadata": {},
   "source": [
    "#### Deleting least important columns\n",
    "We can safely delete PRODUCT_D, RESIDENTIAL_PLACE_Rental, EDUCATION_Primary School and PRODUCT_A\n",
    "(not sure were to set the threshold for removal)"
   ]
  },
  {
   "cell_type": "code",
   "execution_count": 5,
   "id": "b106b531",
   "metadata": {},
   "outputs": [],
   "source": [
    "columns_to_drop = ['PRODUCT_D', 'RESIDENTIAL_PLACE_Rental', 'EDUCATION_Primary school', 'PRODUCT_A']\n",
    "X_train_transformed = X_train_transformed.drop(columns_to_drop, axis=1)\n",
    "\n",
    "# although we already removed columns we will add this step to pipeline\n",
    "# so that whole data processing is saved in it\n",
    "pipeline_processing.steps.append(['encoded_feature_remover', FeatureRemover(columns_to_drop=columns_to_drop)])"
   ]
  },
  {
   "cell_type": "code",
   "execution_count": 6,
   "id": "75335389",
   "metadata": {},
   "outputs": [
    {
     "data": {
      "text/plain": [
       "['processing_pipeline.joblib']"
      ]
     },
     "execution_count": 6,
     "metadata": {},
     "output_type": "execute_result"
    }
   ],
   "source": [
    "import joblib\n",
    "\n",
    "joblib.dump(pipeline_processing, 'processing_pipeline.joblib')"
   ]
  },
  {
   "cell_type": "markdown",
   "id": "956443d5",
   "metadata": {},
   "source": [
    "## Highly correlated features"
   ]
  },
  {
   "cell_type": "markdown",
   "id": "0229300c",
   "metadata": {},
   "source": [
    "From EDA heat map we know that there were some highly correlated features, let's display them now."
   ]
  },
  {
   "cell_type": "code",
   "execution_count": 7,
   "id": "19729ff7",
   "metadata": {},
   "outputs": [
    {
     "name": "stdout",
     "output_type": "stream",
     "text": [
      "Pearson Correlated Pairs:\n",
      "Column 1                                  Column 2                                Correlation\n",
      "----------------------------------------  ------------------------------------  -------------\n",
      "NO_OF_DEPENDENTS                          HOUSEHOLD_MEMBERS                              0.73\n",
      "CURRENT_ACCOUNT                           DEBIT_CARD                                     0.81\n",
      "RESIDENTIAL_PLACE_Owner without mortgage  RESIDENTIAL_PLACE_Living with family          -0.85\n",
      "MARITAL_STATUS_married                    HOUSEHOLD_MEMBERS                              0.78\n",
      "MARITAL_STATUS_single                     MARITAL_STATUS_married                        -0.77\n",
      "\n",
      "Spearman Correlated Pairs:\n",
      "Column 1                                  Column 2                                Correlation\n",
      "----------------------------------------  ------------------------------------  -------------\n",
      "CURRENT_ACCOUNT                           DEBIT_CARD                                     0.81\n",
      "RESIDENTIAL_PLACE_Owner without mortgage  RESIDENTIAL_PLACE_Living with family          -0.85\n",
      "MARITAL_STATUS_married                    HOUSEHOLD_MEMBERS                              0.88\n",
      "MARITAL_STATUS_single                     HOUSEHOLD_MEMBERS                             -0.71\n",
      "MARITAL_STATUS_single                     MARITAL_STATUS_married                        -0.77\n"
     ]
    }
   ],
   "source": [
    "from tabulate import tabulate\n",
    "\n",
    "def find_correlated_pairs(X, k):\n",
    "    # Calculate Pearson correlation coefficients\n",
    "    pearson_corr = X.corr(method='pearson')\n",
    "\n",
    "    # Calculate Spearman correlation coefficients\n",
    "    spearman_corr = X.corr(method='spearman')\n",
    "\n",
    "    # Initialize lists to store correlated pairs\n",
    "    pearson_correlated_pairs = []\n",
    "    spearman_correlated_pairs = []\n",
    "    \n",
    "    # Initialize set for storing column names\n",
    "    cols = set()\n",
    "\n",
    "    # Loop through each pair of features\n",
    "    for i in range(len(X.columns)):\n",
    "        for j in range(len(X.columns)):\n",
    "            if i > j:\n",
    "                # Check Pearson correlation coefficient\n",
    "                if abs(pearson_corr.iloc[i, j]) > k:\n",
    "                    col1, col2 = pearson_corr.columns[i], pearson_corr.columns[j]\n",
    "                    pearson_correlated_pairs.append((col1, col2, round(pearson_corr.loc[col1, col2], 2)))\n",
    "                    cols.add(col1)\n",
    "                    cols.add(col2)\n",
    "                # Check Spearman correlation coefficient\n",
    "                if abs(spearman_corr.iloc[i, j]) > k:\n",
    "                    col1, col2 = spearman_corr.columns[i], pearson_corr.columns[j]\n",
    "                    spearman_correlated_pairs.append((col1, col2, round(spearman_corr.loc[col1, col2], 2)))\n",
    "                    cols.add(col1)\n",
    "                    cols.add(col2)\n",
    "\n",
    "    return pearson_correlated_pairs, spearman_correlated_pairs, cols\n",
    "\n",
    "\n",
    "pearson_pairs, spearman_pairs, cols = find_correlated_pairs(X_train_transformed, 0.7)\n",
    "\n",
    "# tuples to lists\n",
    "pearson_pairs_data = [[pair[0], pair[1], pair[2]] for pair in pearson_pairs]\n",
    "spearman_pairs_data = [[pair[0], pair[1], pair[2]] for pair in spearman_pairs]\n",
    "\n",
    "print(\"Pearson Correlated Pairs:\")\n",
    "print(tabulate(pearson_pairs_data, headers=[\"Column 1\", \"Column 2\", \"Correlation\"], tablefmt=\"simple\"))\n",
    "print(\"\\nSpearman Correlated Pairs:\")\n",
    "print(tabulate(spearman_pairs_data, headers=[\"Column 1\", \"Column 2\", \"Correlation\"], tablefmt=\"simple\"))\n"
   ]
  },
  {
   "cell_type": "markdown",
   "id": "ae304cdd",
   "metadata": {},
   "source": [
    "## Correlation of these features with target"
   ]
  },
  {
   "cell_type": "code",
   "execution_count": 8,
   "id": "98761cac",
   "metadata": {},
   "outputs": [
    {
     "name": "stdout",
     "output_type": "stream",
     "text": [
      "Column                                      Correlation with Target\n",
      "----------------------------------------  -------------------------\n",
      "MARITAL_STATUS_single                                          0.16\n",
      "MARITAL_STATUS_married                                        -0.14\n",
      "RESIDENTIAL_PLACE_Living with family                           0.12\n",
      "HOUSEHOLD_MEMBERS                                             -0.1\n",
      "RESIDENTIAL_PLACE_Owner without mortgage                      -0.09\n",
      "CURRENT_ACCOUNT                                               -0.03\n",
      "DEBIT_CARD                                                    -0.02\n",
      "NO_OF_DEPENDENTS                                               0.01\n"
     ]
    }
   ],
   "source": [
    "def get_sorted_correlations(X, cols, target):\n",
    "    # Calculate correlations with target for each column in cols\n",
    "    correlations = {}\n",
    "    for col in cols:\n",
    "        correlation = target.corr(X[col])\n",
    "        correlations[col] = round(correlation, 2)\n",
    "\n",
    "    # Sort correlations in descending order\n",
    "    sorted_correlations = sorted(correlations.items(), key=lambda x: abs(x[1]), reverse=True)\n",
    "    \n",
    "    return sorted_correlations\n",
    "\n",
    "sorted_correlations = get_sorted_correlations(X_train_transformed, cols, target)\n",
    "\n",
    "print(tabulate(sorted_correlations, headers=[\"Column\", \"Correlation with Target\"], tablefmt=\"simple\"))\n"
   ]
  },
  {
   "cell_type": "markdown",
   "id": "95c70777",
   "metadata": {},
   "source": [
    "## Feature importance in RandomForestClassifier"
   ]
  },
  {
   "cell_type": "code",
   "execution_count": 9,
   "id": "15eb24c7",
   "metadata": {},
   "outputs": [
    {
     "name": "stdout",
     "output_type": "stream",
     "text": [
      "Feature                                                              Importance\n",
      "-----------------------------------------------------------------  ------------\n",
      "INCOME                                                              0.153606\n",
      "AGE                                                                 0.13486\n",
      "BUSINESS_AGE                                                        0.0899575\n",
      "WORK_SENIORITY                                                      0.0676131\n",
      "LENGTH_RELATIONSHIP_WITH_CLIENT                                     0.0568231\n",
      "EMPLOYEE_NO                                                         0.0554018\n",
      "CURRENT_ACCOUNT                                                     0.0194089\n",
      "EDUCATION_University                                                0.0180406\n",
      "AREA_Rural area                                                     0.0178721\n",
      "NO_OF_DEPENDENTS                                                    0.0178685\n",
      "ECONOMIC_SECTOR_Manufacturing                                       0.0174176\n",
      "AREA_County capital                                                 0.0172191\n",
      "EDUCATION_Highschool                                                0.0169481\n",
      "HOUSEHOLD_MEMBERS                                                   0.0168447\n",
      "RESIDENTIAL_PLACE_Living with family                                0.0161945\n",
      "EDUCATION_Post secondary school                                     0.0160889\n",
      "PRODUCT_F                                                           0.015702\n",
      "MARITAL_STATUS_single                                               0.0155574\n",
      "ECONOMIC_SECTOR_Wholesale and retail trade                          0.0154942\n",
      "AREA_Urban area                                                     0.015492\n",
      "DEBIT_CARD                                                          0.0154544\n",
      "EDUCATION_Other                                                     0.0145485\n",
      "PRODUCT_C                                                           0.0140982\n",
      "PRODUCT_B                                                           0.0139544\n",
      "RESIDENTIAL_PLACE_Owner without mortgage                            0.0126197\n",
      "MARITAL_STATUS_married                                              0.011561\n",
      "EDUCATION_Vocational school                                         0.00998352\n",
      "EDUCATION_College                                                   0.00991186\n",
      "SALARY_ACCOUNT                                                      0.0088218\n",
      "EDUCATION_Middle school                                             0.0080724\n",
      "ECONOMIC_SECTOR_Other                                               0.00783913\n",
      "ECONOMIC_SECTOR_Transportation and storage                          0.00774078\n",
      "PRODUCT_E                                                           0.00598918\n",
      "ECONOMIC_SECTOR_Human health and social work activities             0.00592618\n",
      "ECONOMIC_SECTOR_Accommodation and food service activities           0.00582739\n",
      "MARITAL_STATUS_divorced                                             0.00569867\n",
      "ECONOMIC_SECTOR_Construction                                        0.00561621\n",
      "ECONOMIC_SECTOR_Public administration and defence                   0.00559052\n",
      "ECONOMIC_SECTOR_Water supply                                        0.00547566\n",
      "ECONOMIC_SECTOR_Agriculture, hunting and forestry                   0.00518661\n",
      "RESIDENTIAL_PLACE_Other                                             0.00472436\n",
      "EDUCATION_Post-graduate                                             0.00470211\n",
      "MARITAL_STATUS_widow                                                0.00392275\n",
      "ECONOMIC_SECTOR_Professional, scientific and technical activities   0.00250125\n",
      "ECONOMIC_SECTOR_Information and communication                       0.00210879\n",
      "ECONOMIC_SECTOR_Education                                           0.00206543\n",
      "ECONOMIC_SECTOR_Real estate activities                              0.00179393\n",
      "RESIDENTIAL_PLACE_Owner with mortgage                               0.00147622\n",
      "ECONOMIC_SECTOR_Financial and insurance activities                  0.0010852\n",
      "ECONOMIC_SECTOR_Electricity and gas                                 0.000894319\n",
      "ECONOMIC_SECTOR_Mining and quarrying                                0.000400238\n"
     ]
    }
   ],
   "source": [
    "from sklearn.ensemble import RandomForestClassifier\n",
    "\n",
    "rf_classifier = RandomForestClassifier()\n",
    "rf_classifier.fit(X_train_transformed, target)\n",
    "\n",
    "# Get feature importances from the classifier\n",
    "feature_importances = rf_classifier.feature_importances_\n",
    "\n",
    "# Create a DataFrame and sort by importance\n",
    "importance_df = pd.DataFrame({'Feature': X_train_transformed.columns, 'Importance': feature_importances})\n",
    "importance_df = importance_df.sort_values(by='Importance', ascending=False)\n",
    "\n",
    "print(tabulate(importance_df, headers='keys', tablefmt='simple', showindex=False))"
   ]
  },
  {
   "cell_type": "markdown",
   "id": "83678150",
   "metadata": {},
   "source": [
    "## Summarize these outcomes"
   ]
  },
  {
   "cell_type": "markdown",
   "id": "b4976ed5",
   "metadata": {},
   "source": [
    "This summarization below contains no new data, it was just created for pracitcal reason to avoid scrolling through cells."
   ]
  },
  {
   "cell_type": "code",
   "execution_count": 10,
   "id": "d7270640",
   "metadata": {},
   "outputs": [
    {
     "name": "stdout",
     "output_type": "stream",
     "text": [
      "---Pearson Correlation---\n",
      "\n",
      "('NO_OF_DEPENDENTS', 'HOUSEHOLD_MEMBERS', 0.73)\n",
      "                     Correlation with target    Feature importance\n",
      "-----------------  -------------------------  --------------------\n",
      "NO_OF_DEPENDENTS                        0.01             0.0178685\n",
      "HOUSEHOLD_MEMBERS                      -0.1              0.0168447 \n",
      "\n",
      "('CURRENT_ACCOUNT', 'DEBIT_CARD', 0.81)\n",
      "                   Correlation with target    Feature importance\n",
      "---------------  -------------------------  --------------------\n",
      "CURRENT_ACCOUNT                      -0.03             0.0194089\n",
      "DEBIT_CARD                           -0.02             0.0154544 \n",
      "\n",
      "('RESIDENTIAL_PLACE_Owner without mortgage', 'RESIDENTIAL_PLACE_Living with family', -0.85)\n",
      "                                            Correlation with target    Feature importance\n",
      "----------------------------------------  -------------------------  --------------------\n",
      "RESIDENTIAL_PLACE_Owner without mortgage                      -0.09             0.0126197\n",
      "RESIDENTIAL_PLACE_Living with family                           0.12             0.0161945 \n",
      "\n",
      "('MARITAL_STATUS_married', 'HOUSEHOLD_MEMBERS', 0.78)\n",
      "                          Correlation with target    Feature importance\n",
      "----------------------  -------------------------  --------------------\n",
      "MARITAL_STATUS_married                      -0.14             0.011561\n",
      "HOUSEHOLD_MEMBERS                           -0.1              0.0168447 \n",
      "\n",
      "('MARITAL_STATUS_single', 'MARITAL_STATUS_married', -0.77)\n",
      "                          Correlation with target    Feature importance\n",
      "----------------------  -------------------------  --------------------\n",
      "MARITAL_STATUS_single                        0.16             0.0155574\n",
      "MARITAL_STATUS_married                      -0.14             0.011561 \n",
      "\n",
      "---Spearman Correlation---\n",
      "\n",
      "('MARITAL_STATUS_single', 'HOUSEHOLD_MEMBERS', -0.71)\n",
      "                         Correlation with target    Feature importance\n",
      "---------------------  -------------------------  --------------------\n",
      "MARITAL_STATUS_single                       0.16             0.0155574\n",
      "HOUSEHOLD_MEMBERS                          -0.1              0.0168447\n"
     ]
    }
   ],
   "source": [
    "from tabulate import tabulate\n",
    "\n",
    "def create_table(X, triple, feature_importances):\n",
    "    # Extract elements from the triple\n",
    "    col1, col2, correlation = triple\n",
    "\n",
    "    # Get correlation with target for each column\n",
    "    corr_with_target_col1 = round(target.corr(X[col1]), 2)\n",
    "    corr_with_target_col2 = round(target.corr(X[col2]), 2)\n",
    "\n",
    "    # Get feature importances for each column\n",
    "    importance_col1 = feature_importances.loc[feature_importances['Feature'] == col1, 'Importance'].values[0]\n",
    "    importance_col2 = feature_importances.loc[feature_importances['Feature'] == col2, 'Importance'].values[0]\n",
    "\n",
    "    # Construct the table as a list of lists\n",
    "    table_data = [\n",
    "        ['', 'Correlation with target', 'Feature importance'],\n",
    "        [col1, corr_with_target_col1, importance_col1],\n",
    "        [col2, corr_with_target_col2, importance_col2]\n",
    "    ]\n",
    "\n",
    "    return table_data\n",
    "\n",
    "print('---Pearson Correlation---\\n')\n",
    "for pair in pearson_pairs:\n",
    "    print(pair)\n",
    "    table_data = create_table(X_train_transformed, pair, importance_df)\n",
    "    print(tabulate(table_data, headers='firstrow', tablefmt='simple'), '\\n')\n",
    "\n",
    "# Display only the pair that appeared in Spearman correlation pairs and not in Pearson pair\n",
    "print('---Spearman Correlation---\\n')\n",
    "print(spearman_pairs[3])\n",
    "print(tabulate(create_table(X_train_transformed, spearman_pairs[3], importance_df), headers='firstrow', tablefmt='simple'))\n"
   ]
  },
  {
   "cell_type": "markdown",
   "id": "da3f55f7",
   "metadata": {},
   "source": [
    "From the above data we belive that it will be beneficial for the model if we delete features: DEBIT_CARD and NO_OF_DEPENDENTS as they are highly correlated with CURRENT_ACCOUNT and HOUSEHOLD_MEMBERS respectively and have low correlation with target. Although they both have slightly greater importance according to RFC we believe that differences in correlation with target is more significant.\n",
    "\n",
    "We will not delete any other features from above pair even though they are highly correlated with each other, because they have high correlation with target and from our EDA we know that we do not have many features with high correlation with target, hence they are valuable for us."
   ]
  },
  {
   "cell_type": "code",
   "execution_count": 11,
   "id": "c32904ba",
   "metadata": {},
   "outputs": [],
   "source": [
    "X_train_transformed = X_train_transformed.drop(['DEBIT_CARD', 'NO_OF_DEPENDENTS'], axis=1)"
   ]
  },
  {
   "cell_type": "markdown",
   "id": "bf8ef578",
   "metadata": {},
   "source": [
    "## Modeling with RandomForestClassifier"
   ]
  },
  {
   "cell_type": "code",
   "execution_count": 12,
   "id": "b75e1cb7",
   "metadata": {},
   "outputs": [],
   "source": [
    "from joblib import load\n",
    "pipeline_processing = load('processing_pipeline.joblib')"
   ]
  },
  {
   "cell_type": "code",
   "execution_count": 13,
   "id": "fa2c8585",
   "metadata": {},
   "outputs": [],
   "source": [
    "X_train = pd.read_csv('../data/orig_train.csv')\n",
    "\n",
    "y_train = X_train['DEFAULT_FLAG']\n",
    "X_train.drop(columns=['DEFAULT_FLAG'], inplace=True)\n",
    "\n",
    "\n",
    "pipeline_processing.fit(X_train)\n",
    "X_train = pipeline_processing.transform(X_train)\n",
    "X_train = X_train.drop(['DEBIT_CARD', 'NO_OF_DEPENDENTS'], axis=1)"
   ]
  },
  {
   "cell_type": "code",
   "execution_count": 14,
   "id": "af46e903",
   "metadata": {},
   "outputs": [],
   "source": [
    "X_val = pd.read_csv('../data/orig_valid.csv')\n",
    "\n",
    "y_val = X_val['DEFAULT_FLAG']\n",
    "X_val.drop(columns=['DEFAULT_FLAG'], inplace=True)\n",
    "\n",
    "X_val = pipeline_processing.transform(X_val)\n",
    "X_val = X_val.drop(['DEBIT_CARD', 'NO_OF_DEPENDENTS'], axis=1)"
   ]
  },
  {
   "cell_type": "code",
   "execution_count": 15,
   "id": "f9b3d205",
   "metadata": {
    "scrolled": true
   },
   "outputs": [],
   "source": [
    "from sklearn.metrics import accuracy_score, f1_score, recall_score\n",
    "\n",
    "# initialize and train RandomForestClassifier\n",
    "rf_clf = RandomForestClassifier(n_estimators=100, max_depth=25, min_samples_leaf=10)\n",
    "rf_clf.fit(X_train, y_train)\n",
    "\n",
    "# predict on training data\n",
    "y_train_pred = rf_clf.predict(X_train)"
   ]
  },
  {
   "cell_type": "markdown",
   "id": "3dc8c84a",
   "metadata": {},
   "source": [
    "### Scores for train and validation data"
   ]
  },
  {
   "cell_type": "code",
   "execution_count": 16,
   "id": "8d6ad05a",
   "metadata": {},
   "outputs": [
    {
     "name": "stdout",
     "output_type": "stream",
     "text": [
      "Dataset       F1 Score    Accuracy     Recall\n",
      "----------  ----------  ----------  ---------\n",
      "Train        0.055991     0.944161  0.0289352\n",
      "Validation   0.0210526    0.942504  0.0108108\n"
     ]
    }
   ],
   "source": [
    "train_f1 = f1_score(y_train, y_train_pred)\n",
    "train_accuracy = accuracy_score(y_train, y_train_pred)\n",
    "train_recall = recall_score(y_train, y_train_pred)\n",
    "\n",
    "# prediction on validation data\n",
    "y_val_pred = rf_clf.predict(X_val)\n",
    "\n",
    "# \n",
    "val_f1 = f1_score(y_val, y_val_pred)\n",
    "val_accuracy = accuracy_score(y_val, y_val_pred)\n",
    "val_recall = recall_score(y_val, y_val_pred)\n",
    "\n",
    "results = [\n",
    "    [\"Train\", train_f1, train_accuracy, train_recall],\n",
    "    [\"Validation\", val_f1, val_accuracy, val_recall]\n",
    "]\n",
    "\n",
    "print(tabulate(results, headers=[\"Dataset\", \"F1 Score\", \"Accuracy\", \"Recall\"], tablefmt=\"simple\"))"
   ]
  },
  {
   "cell_type": "code",
   "execution_count": 17,
   "id": "a5f1177e",
   "metadata": {},
   "outputs": [],
   "source": [
    "from sklearn.metrics import confusion_matrix\n",
    "\n",
    "def print_cm(target, target_pred):\n",
    "    cm = confusion_matrix(target, target_pred)\n",
    "    cm_list = cm.tolist()\n",
    "\n",
    "    headers = [\"Actual 0\", \"Actual 1\"]\n",
    "    labels = [\"Predicted 0\", \"Predicted 1\"]\n",
    "\n",
    "    cm_percentage = np.round(cm / cm.sum(axis=1)[:, np.newaxis] * 100, 2)\n",
    "    cm_percentage_list = cm_percentage.tolist()\n",
    "\n",
    "    for i in range(len(cm_list)):\n",
    "        for j in range(len(cm_list[i])):\n",
    "            cm_list[i][j] = f\"{cm_list[i][j]} ({cm_percentage_list[i][j]}%)\"\n",
    "\n",
    "    print(tabulate(cm_list, headers=headers, showindex=labels, tablefmt=\"simple\"))\n"
   ]
  },
  {
   "cell_type": "markdown",
   "id": "2b406165",
   "metadata": {},
   "source": [
    "### Confusion matrices"
   ]
  },
  {
   "cell_type": "markdown",
   "id": "a660d1b0",
   "metadata": {},
   "source": [
    "#### Train data"
   ]
  },
  {
   "cell_type": "code",
   "execution_count": 18,
   "id": "5ad7b9dc",
   "metadata": {},
   "outputs": [
    {
     "name": "stdout",
     "output_type": "stream",
     "text": [
      "             Actual 0        Actual 1\n",
      "-----------  --------------  ----------\n",
      "Predicted 0  14229 (99.97%)  4 (0.03%)\n",
      "Predicted 1  839 (97.11%)    25 (2.89%)\n"
     ]
    }
   ],
   "source": [
    "print_cm(y_train, y_train_pred)"
   ]
  },
  {
   "cell_type": "markdown",
   "id": "e8897c05",
   "metadata": {},
   "source": [
    "#### Validation data"
   ]
  },
  {
   "cell_type": "code",
   "execution_count": 19,
   "id": "4639cf82",
   "metadata": {},
   "outputs": [
    {
     "name": "stdout",
     "output_type": "stream",
     "text": [
      "             Actual 0      Actual 1\n",
      "-----------  ------------  ----------\n",
      "Predicted 0  3047 (99.9%)  3 (0.1%)\n",
      "Predicted 1  183 (98.92%)  2 (1.08%)\n"
     ]
    }
   ],
   "source": [
    "print_cm(y_val, y_val_pred)"
   ]
  },
  {
   "cell_type": "markdown",
   "id": "cd8b6b9e",
   "metadata": {},
   "source": [
    "### ROC curve"
   ]
  },
  {
   "cell_type": "code",
   "execution_count": 20,
   "id": "0444017d",
   "metadata": {},
   "outputs": [
    {
     "data": {
      "image/png": "[encoded data removed]",
      "text/plain": [
       "<Figure size 800x600 with 1 Axes>"
      ]
     },
     "metadata": {},
     "output_type": "display_data"
    }
   ],
   "source": [
    "from sklearn.metrics import roc_curve, roc_auc_score\n",
    "import matplotlib.pyplot as plt\n",
    "\n",
    "# Calculate the probabilities of the positive class\n",
    "probs = rf_clf.predict_proba(X_val)[:, 1]\n",
    "\n",
    "# Compute the ROC curve\n",
    "fpr, tpr, thresholds = roc_curve(y_val, probs)\n",
    "\n",
    "# Compute the AUC score\n",
    "auc = roc_auc_score(y_val, probs)\n",
    "\n",
    "# Plot ROC curve\n",
    "plt.figure(figsize=(8, 6))\n",
    "plt.plot(fpr, tpr, color='deepskyblue', lw=1, label='ROC curve (AUC = {:.2f})'.format(auc))\n",
    "plt.plot([0, 1], [0, 1], color='sandybrown', linestyle='--')\n",
    "plt.xlim([0.0, 1.0])\n",
    "plt.ylim([0.0, 1.01])\n",
    "plt.xlabel('False Positive Rate')\n",
    "plt.ylabel('True Positive Rate')\n",
    "plt.title('Receiver Operating Characteristic (ROC) Curve')\n",
    "plt.legend(loc=\"lower right\")\n",
    "plt.show()"
   ]
  }
 ],
 "metadata": {
  "kernelspec": {
   "display_name": "Python 3 (ipykernel)",
   "language": "python",
   "name": "python3"
  },
  "language_info": {
   "codemirror_mode": {
    "name": "ipython",
    "version": 3
   },
   "file_extension": ".py",
   "mimetype": "text/x-python",
   "name": "python",
   "nbconvert_exporter": "python",
   "pygments_lexer": "ipython3",
   "version": "3.11.5"
  },
  "vscode": {
   "interpreter": {
    "hash": "dcd1c68a8a59a1faf25c549639db1eb96225b4e53ef5cc9d32a5e017723239b3"
   }
  }
 },
 "nbformat": 4,
 "nbformat_minor": 5
}
